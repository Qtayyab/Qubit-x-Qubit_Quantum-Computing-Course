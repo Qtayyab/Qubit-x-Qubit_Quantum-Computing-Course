{
  "nbformat": 4,
  "nbformat_minor": 0,
  "metadata": {
    "colab": {
      "provenance": []
    },
    "kernelspec": {
      "name": "python3",
      "display_name": "Python 3"
    },
    "language_info": {
      "name": "python"
    }
  },
  "cells": [
    {
      "cell_type": "markdown",
      "source": [
        "# **Lab 2: Python Basics I**\n",
        "---\n",
        "\n",
        "### **Description**\n",
        "In this lab, we will familiarize ourselves with Google Colab. We will also begin to develop the necessary Python skills and foundation, paving the way for success in our upcoming quantum computing course.\n",
        "\n",
        "<br>\n",
        "\n",
        "### **Structure**\n",
        "**Part 1**: [Getting Familiar with Google Colab](#p1)\n",
        "\n",
        "**Part 2**: [Arithmetic Operators](#p2)\n",
        "\n",
        "**Part 3**: [Variables](#p3)\n",
        "\n",
        "**Part 4**: [Additional Practice [OPTIONAL]](#p4)\n",
        ">\n",
        "> **Part 4.1**: [Arithmetic Operators](#p4.1)\n",
        ">\n",
        "> **Part 4.2**: [Variables](#p4.2)\n",
        "\n",
        "\n",
        "<br>\n",
        "\n",
        "### **Learning Objectives**\n",
        "By the end of this lab, we will:\n",
        "* Recognize the definition/framework of objects and attributes.\n",
        "* Recognize the main data types and how to modify them with basic arithmetic operators (+, -, /, *).\n",
        "* Recognize that variables are a way to store objects.\n",
        "\n",
        "\n",
        "<br>\n",
        "\n",
        "### **Resources**\n",
        "* [Python Basics Cheat Sheet](https://docs.google.com/document/d/1uLao-xKh3tYIiCYyiqf7oas4qTlr5XYKQ0QpzX_Xzag/edit?usp=sharing)"
      ],
      "metadata": {
        "id": "K3JVwUgVElwe"
      }
    },
    {
      "cell_type": "markdown",
      "source": [
        "<a name=\"p1\"></a>\n",
        "\n",
        "---\n",
        "## **Part 1: Getting Familiar with Google Colab**\n",
        "---"
      ],
      "metadata": {
        "id": "vFusVI8O6sd-"
      }
    },
    {
      "cell_type": "markdown",
      "source": [
        "#### **Problem #1.1**\n",
        "\n",
        "**Together**, let's change the title of our notebook. Rename the notebook to \"QXQ Week 1 Lab Notebook\"."
      ],
      "metadata": {
        "id": "4EgRMGgY7J-X"
      }
    },
    {
      "cell_type": "markdown",
      "source": [
        "#### **Problem #1.2**\n",
        "\n",
        "**Together**, let's create a new text cell and type: \"This is a text cell.\""
      ],
      "metadata": {
        "id": "1977NXTR78g_"
      }
    },
    {
      "cell_type": "markdown",
      "source": [
        "This is a text cell"
      ],
      "metadata": {
        "id": "8sgHndY3A5Fe"
      }
    },
    {
      "cell_type": "markdown",
      "source": [
        "#### **Problem #1.3**\n",
        "\n",
        "**Together**, let's create a new code cell and type: \"This is a code cell.\""
      ],
      "metadata": {
        "id": "7EcHRNJt8QaH"
      }
    },
    {
      "cell_type": "code",
      "source": [
        "This is a code cell"
      ],
      "metadata": {
        "id": "2MeGK7YIA8ou"
      },
      "execution_count": null,
      "outputs": []
    },
    {
      "cell_type": "markdown",
      "source": [
        "#### **Problem #1.4**\n",
        "\n",
        "**Together**, let's run the code cell below."
      ],
      "metadata": {
        "id": "Lgm13Kns8Vzi"
      }
    },
    {
      "cell_type": "code",
      "source": [
        "\"Hello World!\""
      ],
      "metadata": {
        "id": "se-uUU8bE-Gn",
        "colab": {
          "base_uri": "https://localhost:8080/",
          "height": 36
        },
        "outputId": "7e9779c8-f517-435f-8571-46a19c7e56da"
      },
      "execution_count": 1,
      "outputs": [
        {
          "output_type": "execute_result",
          "data": {
            "text/plain": [
              "'Hello World!'"
            ],
            "application/vnd.google.colaboratory.intrinsic+json": {
              "type": "string"
            }
          },
          "metadata": {},
          "execution_count": 1
        }
      ]
    },
    {
      "cell_type": "markdown",
      "source": [
        "---\n",
        "\n",
        "<center>\n",
        "\n",
        "#### **Wait for Your Instructor to Continue**\n",
        "\n",
        "---"
      ],
      "metadata": {
        "id": "0EOWYdxhTiki"
      }
    },
    {
      "cell_type": "markdown",
      "source": [
        "<a name=\"p2\"></a>\n",
        "\n",
        "---\n",
        "## **Part 2: Arithmetic Operators**\n",
        "---"
      ],
      "metadata": {
        "id": "H5MIexSZviqM"
      }
    },
    {
      "cell_type": "markdown",
      "source": [
        "#### **Problem #2.1**\n",
        "\n",
        "**Together**, let's add the ints 3 and 2."
      ],
      "metadata": {
        "id": "Nkrwij4gSu0h"
      }
    },
    {
      "cell_type": "code",
      "source": [
        "3 + 2"
      ],
      "metadata": {
        "id": "rwGjkCmrT8cp",
        "colab": {
          "base_uri": "https://localhost:8080/"
        },
        "outputId": "4fc2b25f-4d2f-4792-f066-0b984ef14876"
      },
      "execution_count": 2,
      "outputs": [
        {
          "output_type": "execute_result",
          "data": {
            "text/plain": [
              "5"
            ]
          },
          "metadata": {},
          "execution_count": 2
        }
      ]
    },
    {
      "cell_type": "markdown",
      "source": [
        "#### **Problem #2.2**\n",
        "\n",
        "**Together**, let's add 7.0 and 2.0."
      ],
      "metadata": {
        "id": "TMg9xuU4bGXO"
      }
    },
    {
      "cell_type": "code",
      "source": [
        "7.0 + 2.0"
      ],
      "metadata": {
        "id": "gxuz6DBtbS4b",
        "colab": {
          "base_uri": "https://localhost:8080/"
        },
        "outputId": "1eecadea-7b07-49e8-94dd-d9bbae10019f"
      },
      "execution_count": 3,
      "outputs": [
        {
          "output_type": "execute_result",
          "data": {
            "text/plain": [
              "9.0"
            ]
          },
          "metadata": {},
          "execution_count": 3
        }
      ]
    },
    {
      "cell_type": "markdown",
      "source": [
        "#### **Problem #2.3**\n",
        "\n",
        "**Together**, let's divide 23 by 2."
      ],
      "metadata": {
        "id": "AoNyZMOLbHzG"
      }
    },
    {
      "cell_type": "code",
      "source": [
        "23 / 2"
      ],
      "metadata": {
        "id": "2qLvU5ArbX9e",
        "colab": {
          "base_uri": "https://localhost:8080/"
        },
        "outputId": "996c8465-d357-423a-eeb6-5b20764b2ae6"
      },
      "execution_count": 4,
      "outputs": [
        {
          "output_type": "execute_result",
          "data": {
            "text/plain": [
              "11.5"
            ]
          },
          "metadata": {},
          "execution_count": 4
        }
      ]
    },
    {
      "cell_type": "markdown",
      "source": [
        "#### **Problem #2.4**\n",
        "\n",
        "**Together**, let's multiply 24.0 and 25.4."
      ],
      "metadata": {
        "id": "MAhg9IhNbIW9"
      }
    },
    {
      "cell_type": "code",
      "source": [
        "24.0 * 25.4"
      ],
      "metadata": {
        "id": "vQouy4o_brEN",
        "colab": {
          "base_uri": "https://localhost:8080/"
        },
        "outputId": "4dfe5184-8ac3-4630-9937-ffb2d320c1b8"
      },
      "execution_count": 5,
      "outputs": [
        {
          "output_type": "execute_result",
          "data": {
            "text/plain": [
              "609.5999999999999"
            ]
          },
          "metadata": {},
          "execution_count": 5
        }
      ]
    },
    {
      "cell_type": "markdown",
      "source": [
        "---\n",
        "\n",
        "#### **Now it's your turn! Try Problems #2.5 - 2.7 on your own.**\n",
        "\n",
        "---"
      ],
      "metadata": {
        "id": "Ttxn0Y39k4mS"
      }
    },
    {
      "cell_type": "markdown",
      "source": [
        "#### **Problem #2.5**\n",
        "\n",
        "**Independently**, add 13 and 27."
      ],
      "metadata": {
        "id": "bAfEeCA5gwqX"
      }
    },
    {
      "cell_type": "code",
      "source": [
        "13 + 27"
      ],
      "metadata": {
        "id": "nlNB4BF_jsEt",
        "colab": {
          "base_uri": "https://localhost:8080/"
        },
        "outputId": "d8389918-f971-4797-f4e6-457dc9274894"
      },
      "execution_count": 6,
      "outputs": [
        {
          "output_type": "execute_result",
          "data": {
            "text/plain": [
              "40"
            ]
          },
          "metadata": {},
          "execution_count": 6
        }
      ]
    },
    {
      "cell_type": "markdown",
      "source": [
        "#### **Problem #2.6**\n",
        "\n",
        "**Independently**, multiply 1000 and 3000.5."
      ],
      "metadata": {
        "id": "d_U6ur7jgxTk"
      }
    },
    {
      "cell_type": "code",
      "source": [
        "1000 + 3000.5"
      ],
      "metadata": {
        "id": "i3mHYwJaj02C",
        "colab": {
          "base_uri": "https://localhost:8080/"
        },
        "outputId": "95144be8-f45b-4731-af3d-edef5a7b7248"
      },
      "execution_count": 7,
      "outputs": [
        {
          "output_type": "execute_result",
          "data": {
            "text/plain": [
              "4000.5"
            ]
          },
          "metadata": {},
          "execution_count": 7
        }
      ]
    },
    {
      "cell_type": "markdown",
      "source": [
        "#### **Problem #2.7**\n",
        "\n",
        "**Independently**, divide 250 by 50."
      ],
      "metadata": {
        "id": "JbFm4hjKgxfX"
      }
    },
    {
      "cell_type": "code",
      "source": [
        "250/50"
      ],
      "metadata": {
        "id": "NCZtaMI1jF4r",
        "colab": {
          "base_uri": "https://localhost:8080/"
        },
        "outputId": "d76c5fff-660b-49e4-a1be-2de73ce7f930"
      },
      "execution_count": 8,
      "outputs": [
        {
          "output_type": "execute_result",
          "data": {
            "text/plain": [
              "5.0"
            ]
          },
          "metadata": {},
          "execution_count": 8
        }
      ]
    },
    {
      "cell_type": "markdown",
      "source": [
        "---\n",
        "\n",
        "<center>\n",
        "\n",
        "#### **Wait for Your Instructor to Continue**\n",
        "\n",
        "---"
      ],
      "metadata": {
        "id": "AzaGwjHOX9Ou"
      }
    },
    {
      "cell_type": "markdown",
      "source": [
        "<a name=\"p3\"></a>\n",
        "\n",
        "---\n",
        "## **Part 3: Variables**\n",
        "---"
      ],
      "metadata": {
        "id": "8ZlKbmO6kmGl"
      }
    },
    {
      "cell_type": "markdown",
      "source": [
        "#### **Problem #3.1**\n",
        "\n",
        "**Together**, let's create a variable called `my_school` and assign a string (anything inside quotes: `\"...\"`) to it with your school's name.\n",
        "\n",
        "<br>\n",
        "\n",
        "**NOTE**: We will output the variable's value by writing the name on a line of its own."
      ],
      "metadata": {
        "id": "6tp4GH_pFiXc"
      }
    },
    {
      "cell_type": "code",
      "source": [
        "my_school = \"COMSATS Univeristy Islamabad, Pakistan\"\n",
        "\n",
        "my_school"
      ],
      "metadata": {
        "id": "dIcO-GzF7jnH",
        "colab": {
          "base_uri": "https://localhost:8080/",
          "height": 36
        },
        "outputId": "3dc0febf-cbb6-4698-8932-8613e327e1f3"
      },
      "execution_count": 9,
      "outputs": [
        {
          "output_type": "execute_result",
          "data": {
            "text/plain": [
              "'COMSATS Univeristy Islamabad, Pakistan'"
            ],
            "application/vnd.google.colaboratory.intrinsic+json": {
              "type": "string"
            }
          },
          "metadata": {},
          "execution_count": 9
        }
      ]
    },
    {
      "cell_type": "markdown",
      "source": [
        "#### **Problem #3.2**\n",
        "\n",
        "**Together**, let's create and name a variable with your favorite number as an integer. Output its value."
      ],
      "metadata": {
        "id": "GeA492pRF9Et"
      }
    },
    {
      "cell_type": "code",
      "source": [
        "favourite_number = 1080\n",
        "favourite_number"
      ],
      "metadata": {
        "id": "BcaGXsBo7qys",
        "colab": {
          "base_uri": "https://localhost:8080/"
        },
        "outputId": "0693bd19-c431-405e-f859-1a666e0e290e"
      },
      "execution_count": 11,
      "outputs": [
        {
          "output_type": "execute_result",
          "data": {
            "text/plain": [
              "1080"
            ]
          },
          "metadata": {},
          "execution_count": 11
        }
      ]
    },
    {
      "cell_type": "markdown",
      "source": [
        "---\n",
        "\n",
        "#### **Now it's your turn! Try Problems #3.3 - 3.4 on your own.**\n",
        "\n",
        "---"
      ],
      "metadata": {
        "id": "jK_9G-b4Thcu"
      }
    },
    {
      "cell_type": "markdown",
      "source": [
        "#### **Problem #3.3**\n",
        "\n",
        "**Independently**, create and name a variable with your favorite number as a float. Output its value."
      ],
      "metadata": {
        "id": "PFzpApaisZj3"
      }
    },
    {
      "cell_type": "code",
      "source": [
        "Myfavourite_number = 2.3\n",
        "Myfavourite_number"
      ],
      "metadata": {
        "id": "TJ1lbMmBseNz",
        "colab": {
          "base_uri": "https://localhost:8080/"
        },
        "outputId": "26b0592c-08fb-410c-e00b-f6bfba893d0a"
      },
      "execution_count": 13,
      "outputs": [
        {
          "output_type": "execute_result",
          "data": {
            "text/plain": [
              "2.3"
            ]
          },
          "metadata": {},
          "execution_count": 13
        }
      ]
    },
    {
      "cell_type": "markdown",
      "source": [
        "#### **Problem #3.4**\n",
        "\n",
        "**Independently**, look through the given declarations and determine which ones are incorrect?\n",
        "\n",
        "a. `Var1 = 7` # correct\n",
        "\n",
        "b. `VAR5 = 8` # correct\n",
        "\n",
        "c. `2var = 92` # incorrect. It can'start with a number\n",
        "\n",
        "d. `first_last_name = \"james gooding\"` # correct\n",
        "\n",
        "e. `Hello! = 0.283` # incorrect\n",
        "\n",
        "f. `variable24 = \"my favorite food is\"` # Correct\n",
        "\n",
        "g. `str = \"string\"`#correct\n",
        "\n"
      ],
      "metadata": {
        "id": "idKFoy5PGMXj"
      }
    },
    {
      "cell_type": "markdown",
      "source": [
        "**Double Click This Cell To Enter Your Answer(s)**"
      ],
      "metadata": {
        "id": "89W-6XfL8bnJ"
      }
    },
    {
      "cell_type": "markdown",
      "source": [
        "---\n",
        "\n",
        "<center>\n",
        "\n",
        "#### **Wait for Your Instructor to Continue**\n",
        "\n",
        "---"
      ],
      "metadata": {
        "id": "DTTEvh3zX_WK"
      }
    },
    {
      "cell_type": "markdown",
      "source": [
        "<a name=\"p4\"></a>\n",
        "\n",
        "---\n",
        "## **Part 4: Additional Practice [OPTIONAL]**\n",
        "---"
      ],
      "metadata": {
        "id": "x27tcYeFr0ps"
      }
    },
    {
      "cell_type": "markdown",
      "source": [
        "<a name=\"p4.1\"></a>\n",
        "\n",
        "---\n",
        "### **Part 4.1: Arithmetic Operators**\n",
        "---"
      ],
      "metadata": {
        "id": "yhhNVj8tszfa"
      }
    },
    {
      "cell_type": "markdown",
      "source": [
        "#### **Problem #4.1.1**\n",
        "\n",
        "Calculate 5 divided by 2."
      ],
      "metadata": {
        "id": "3UHFE0F-r_AY"
      }
    },
    {
      "cell_type": "code",
      "source": [
        "5/2"
      ],
      "metadata": {
        "id": "0gTl9x12r_AZ",
        "colab": {
          "base_uri": "https://localhost:8080/"
        },
        "outputId": "4008e59e-6658-4955-de83-37a434b24d19"
      },
      "execution_count": 14,
      "outputs": [
        {
          "output_type": "execute_result",
          "data": {
            "text/plain": [
              "2.5"
            ]
          },
          "metadata": {},
          "execution_count": 14
        }
      ]
    },
    {
      "cell_type": "markdown",
      "source": [
        "#### **Problem #4.1.2**\n",
        "\n",
        "Calculate 50 divided by 2."
      ],
      "metadata": {
        "id": "-Op2trMwsNTO"
      }
    },
    {
      "cell_type": "code",
      "source": [
        "50/2"
      ],
      "metadata": {
        "id": "r8PUMKhbsNTP",
        "colab": {
          "base_uri": "https://localhost:8080/"
        },
        "outputId": "1effdfd6-3ec3-421a-e029-71ac1a8b8c00"
      },
      "execution_count": 15,
      "outputs": [
        {
          "output_type": "execute_result",
          "data": {
            "text/plain": [
              "25.0"
            ]
          },
          "metadata": {},
          "execution_count": 15
        }
      ]
    },
    {
      "cell_type": "markdown",
      "source": [
        "#### **Problem #4.1.3**\n",
        "\n",
        "Calculate 28 multiplied by 1995."
      ],
      "metadata": {
        "id": "bgSOjzrtsVPZ"
      }
    },
    {
      "cell_type": "code",
      "source": [
        "28 * 1995"
      ],
      "metadata": {
        "id": "wx4fZWNnsVPa",
        "colab": {
          "base_uri": "https://localhost:8080/"
        },
        "outputId": "d6d9f13e-0a80-4dc9-ca4f-32461fb70b75"
      },
      "execution_count": 16,
      "outputs": [
        {
          "output_type": "execute_result",
          "data": {
            "text/plain": [
              "55860"
            ]
          },
          "metadata": {},
          "execution_count": 16
        }
      ]
    },
    {
      "cell_type": "markdown",
      "source": [
        "#### **Problem #4.1.4**\n",
        "\n",
        "Calculate 3 squared."
      ],
      "metadata": {
        "id": "amw5Yd8xsbfR"
      }
    },
    {
      "cell_type": "code",
      "source": [
        "3 ** 2"
      ],
      "metadata": {
        "id": "O1kUtqUisbfT",
        "colab": {
          "base_uri": "https://localhost:8080/"
        },
        "outputId": "a444f729-3132-46fe-b665-ff57ef38e40c"
      },
      "execution_count": 18,
      "outputs": [
        {
          "output_type": "execute_result",
          "data": {
            "text/plain": [
              "9"
            ]
          },
          "metadata": {},
          "execution_count": 18
        }
      ]
    },
    {
      "cell_type": "markdown",
      "source": [
        "#### **Problem #4.1.5**\n",
        "\n",
        "Calculate 2 to the 10th power minus 5."
      ],
      "metadata": {
        "id": "ixi0A-EKslsg"
      }
    },
    {
      "cell_type": "code",
      "source": [
        "( 2 ** 10)-5"
      ],
      "metadata": {
        "id": "JgEGihlislsg",
        "colab": {
          "base_uri": "https://localhost:8080/"
        },
        "outputId": "ed9fb795-c21e-4dcd-c10a-f8ffd652e415"
      },
      "execution_count": 20,
      "outputs": [
        {
          "output_type": "execute_result",
          "data": {
            "text/plain": [
              "1019"
            ]
          },
          "metadata": {},
          "execution_count": 20
        }
      ]
    },
    {
      "cell_type": "markdown",
      "source": [
        "<a name=\"p4.2\"></a>\n",
        "\n",
        "---\n",
        "### **Part 4.2: Variables**\n",
        "---"
      ],
      "metadata": {
        "id": "4MoSMLBItCdo"
      }
    },
    {
      "cell_type": "markdown",
      "source": [
        "#### **Problem #4.2.1**\n",
        "\n",
        "Create a variable named `favorite_animal` and assign a string to it of your favorite animal. Output its value."
      ],
      "metadata": {
        "id": "DNQ0uGTgtCd0"
      }
    },
    {
      "cell_type": "code",
      "source": [
        "favourite_animal = \"eagle\"\n",
        "favourite_animal"
      ],
      "metadata": {
        "id": "RGutT2VXtCd0",
        "colab": {
          "base_uri": "https://localhost:8080/",
          "height": 36
        },
        "outputId": "9e55d4be-f753-413e-e891-5d12f79204e9"
      },
      "execution_count": 22,
      "outputs": [
        {
          "output_type": "execute_result",
          "data": {
            "text/plain": [
              "'eagle'"
            ],
            "application/vnd.google.colaboratory.intrinsic+json": {
              "type": "string"
            }
          },
          "metadata": {},
          "execution_count": 22
        }
      ]
    },
    {
      "cell_type": "markdown",
      "source": [
        "#### **Problem #4.2.2**\n",
        "\n",
        "Create a variable called `problem_number` and assign the float `4.22` to it. Output its value."
      ],
      "metadata": {
        "id": "qEeBTTwhtCd2"
      }
    },
    {
      "cell_type": "code",
      "source": [
        "problem_number = 4.22\n",
        "problem_number"
      ],
      "metadata": {
        "id": "GzcVlThPtCd2",
        "colab": {
          "base_uri": "https://localhost:8080/"
        },
        "outputId": "c442a545-a4b0-450c-e981-366db6bd50c0"
      },
      "execution_count": 24,
      "outputs": [
        {
          "output_type": "execute_result",
          "data": {
            "text/plain": [
              "4.22"
            ]
          },
          "metadata": {},
          "execution_count": 24
        }
      ]
    },
    {
      "cell_type": "markdown",
      "source": [
        "#### **Problem #4.2.3**\n",
        "\n",
        "Create a variable called `next_problem_number` and assign the result of adding `problem_number` and 0.01. Output its value."
      ],
      "metadata": {
        "id": "foTpdnTStCd1"
      }
    },
    {
      "cell_type": "code",
      "source": [
        "next_problem_number = problem_number\n",
        "next_problem_number"
      ],
      "metadata": {
        "id": "r3pRvWxwtCd2",
        "colab": {
          "base_uri": "https://localhost:8080/"
        },
        "outputId": "0604b9bd-2927-482b-bc00-c3e330bca616"
      },
      "execution_count": 25,
      "outputs": [
        {
          "output_type": "execute_result",
          "data": {
            "text/plain": [
              "4.22"
            ]
          },
          "metadata": {},
          "execution_count": 25
        }
      ]
    },
    {
      "cell_type": "markdown",
      "source": [
        "#### **Problem #4.2.4**\n",
        "\n",
        "Create a variable named `my_age` and assign an int with your age to it. Output its value."
      ],
      "metadata": {
        "id": "j9LT67KptCd1"
      }
    },
    {
      "cell_type": "code",
      "source": [
        "my_age = 22\n",
        "my_age"
      ],
      "metadata": {
        "id": "9M1RGVVZtCd1",
        "colab": {
          "base_uri": "https://localhost:8080/"
        },
        "outputId": "9c34ca3d-289d-4954-b2fc-f4df9d1b0d6d"
      },
      "execution_count": 2,
      "outputs": [
        {
          "output_type": "execute_result",
          "data": {
            "text/plain": [
              "22"
            ]
          },
          "metadata": {},
          "execution_count": 2
        }
      ]
    },
    {
      "cell_type": "markdown",
      "source": [
        "#### **Problem #4.2.5**\n",
        "\n",
        "Create a variable named `my_age_in_months` that is equal to `my_age` multiplied by 12. Output its value."
      ],
      "metadata": {
        "id": "219fzMgitCd1"
      }
    },
    {
      "cell_type": "code",
      "source": [
        "my_age_in_months = my_age * 12\n",
        "my_age_in_months"
      ],
      "metadata": {
        "id": "Tf5uJpXftCd1",
        "colab": {
          "base_uri": "https://localhost:8080/"
        },
        "outputId": "8c25addc-f00c-4f54-cd6b-02f39395b2a5"
      },
      "execution_count": 4,
      "outputs": [
        {
          "output_type": "execute_result",
          "data": {
            "text/plain": [
              "264"
            ]
          },
          "metadata": {},
          "execution_count": 4
        }
      ]
    },
    {
      "cell_type": "markdown",
      "source": [
        "# End of notebook\n",
        "---\n",
        "© 2023 The Coding School, All rights reserved"
      ],
      "metadata": {
        "id": "LMrbwMSsoWtN"
      }
    }
  ]
}